{
 "cells": [
  {
   "cell_type": "markdown",
   "metadata": {},
   "source": [
    "# Train a MLP Model Using Relax Training APIs\n",
    "\n",
    "There has been increased interest from the community in using TVM for training. Relax, the next generation graph level IR of TVM, also faces the demand of training model. \n",
    "\n",
    "We built a training workflow on Relax, including:\n",
    "- an **automatic differentiation tool** based on source code transformation\n",
    "- an **optimizer abstraction** and **common optimizers**\n",
    "- a **loss function abstraction** and **common loss functions**\n",
    "- **Trainer API** that integrates them together, and is easy to use\n",
    "\n",
    "The training APIs can serve many needs. You can:\n",
    "- train a model from scratch. You can use the compilation advantages of TVM to speed up the training process.\n",
    "- fine-tune a model on device based on TVM.\n",
    "- deploy the process of training models to various devices that TVM supports, such as FPGA and Raspberry PI.\n",
    "\n",
    "In this tutorial, we will use the training APIs to train a model from scratch using both high-level Trainer API and low-level AD, optimizer, and loss APIs. Finally, we will walk through the source code of the automatic differentiation system to demonstrate how it works.\n",
    "\n",
    "We will use the Fashion MNIST dataset to train an MLP model. This process also applies to most models."
   ]
  },
  {
   "cell_type": "markdown",
   "metadata": {},
   "source": [
    "## Preparations\n",
    "First of all, we will import necessary dependencies and load the DataSet.\n"
   ]
  },
  {
   "cell_type": "code",
   "execution_count": 2,
   "metadata": {},
   "outputs": [],
   "source": [
    "import numpy as np\n",
    "import tvm\n",
    "import tvm.script\n",
    "from tvm import relax\n",
    "from tvm.relax.block_builder import BlockBuilder\n",
    "from tvm.relax.transform import LegalizeOps\n",
    "from tvm.script.parser import ir as I, relax as R, tir as T"
   ]
  }
 ],
 "metadata": {
  "kernelspec": {
   "display_name": "Python 3.8.10 64-bit",
   "language": "python",
   "name": "python3"
  },
  "language_info": {
   "codemirror_mode": {
    "name": "ipython",
    "version": 3
   },
   "file_extension": ".py",
   "mimetype": "text/x-python",
   "name": "python",
   "nbconvert_exporter": "python",
   "pygments_lexer": "ipython3",
   "version": "3.8.10"
  },
  "orig_nbformat": 4,
  "vscode": {
   "interpreter": {
    "hash": "31f2aee4e71d21fbe5cf8b01ff0e069b9275f58929596ceb00d14d90e3e16cd6"
   }
  }
 },
 "nbformat": 4,
 "nbformat_minor": 2
}
